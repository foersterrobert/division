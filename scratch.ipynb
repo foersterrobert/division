{
 "cells": [
  {
   "cell_type": "code",
   "execution_count": 7,
   "metadata": {},
   "outputs": [],
   "source": [
    "import numpy as np\n",
    "import random\n",
    "import decimal\n",
    "import math\n",
    "from tqdm.notebook import trange"
   ]
  },
  {
   "cell_type": "code",
   "execution_count": 8,
   "metadata": {},
   "outputs": [],
   "source": [
    "BATCH_SIZE = 16\n",
    "EPOCHS = 120"
   ]
  },
  {
   "cell_type": "code",
   "execution_count": 9,
   "metadata": {},
   "outputs": [],
   "source": [
    "def devisionData(size):\n",
    "    xdata = []\n",
    "    ydata = []\n",
    "    for i in range(int(size/BATCH_SIZE)):\n",
    "        xbatch = []\n",
    "        ybatch = []\n",
    "        for j in range(BATCH_SIZE):\n",
    "            i1, i2 = float(decimal.Decimal(random.randrange(100, 2000))/100), float(decimal.Decimal(random.randrange(100, 2000))/100)\n",
    "            y = i1 / i2 / 100\n",
    "            xbatch.append([i1, i2])\n",
    "            ybatch.append([y])\n",
    "        xdata.append(np.array(xbatch))\n",
    "        ydata.append(np.array(ybatch))\n",
    "    return list(zip(xdata, ydata))"
   ]
  },
  {
   "cell_type": "code",
   "execution_count": 10,
   "metadata": {},
   "outputs": [],
   "source": [
    "class Model:\n",
    "    def __init__(self):\n",
    "        self.lr = 0.00001\n",
    "        self.W1 = np.random.rand(2, 2) - 0.5\n",
    "        self.b1 = np.random.rand(2, 1) - 0.5\n",
    "        self.W2 = np.random.rand(1, 2) - 0.5\n",
    "        self.b2 = np.random.rand(1, 1) - 0.5\n",
    "        # self.W1 = np.array([[0.000001, 0.0], [0.0, 0.000001]]) # np.random.randn(2, 2)\n",
    "        # self.b1 = np.array([[-0.000001], [-0.000001]]) # np.random.randn(2, 1)\n",
    "        # self.W2 = np.array([[33.3333, -33.3333]]) # np.random.randn(2, 1)\n",
    "        # self.b2 = np.array([[-3.912023]]) # np.random.randn(1, 1)\n",
    "\n",
    "    def forward(self, x, predict=True):\n",
    "        Z1 = self.W1.dot(x) + self.b1\n",
    "        A1 = self.customActivation(Z1)\n",
    "        Z2 = self.W2.dot(A1) + self.b2\n",
    "        A2 = self.customActivation(Z2)\n",
    "        if predict:\n",
    "            return A2[0] * 100\n",
    "        return Z1, A1, Z2, A2\n",
    "\n",
    "    def backward(self, Z1, A1, Z2, A2, x, y):\n",
    "        dZ2 = A2 - y # loss\n",
    "        dW2 = 1/BATCH_SIZE * dZ2.dot(A1.T)\n",
    "        db2 = 1/BATCH_SIZE * np.sum(dZ2, axis=1, keepdims=True)\n",
    "        dA1 = self.W2.T.dot(dZ2)\n",
    "        dZ1 = dA1 * self.customActivationDeriv(Z1)\n",
    "        dW1 = 1/BATCH_SIZE * dZ1.dot(x.T)\n",
    "        db1 = 1/BATCH_SIZE * np.sum(dZ1, axis=1, keepdims=True)\n",
    "        return dW1, db1, dW2, db2, dZ2\n",
    "\n",
    "    def train(self, train_data, verbose=False):\n",
    "        for batchIdx, (x, y) in enumerate(train_data):\n",
    "            x, y = x.T, y.T # Transpose | (batch, input) -> (input, batch)\n",
    "            Z1, A1, Z2, A2 = self.forward(x, predict=False)\n",
    "            dW1, db1, dW2, db2, loss = self.backward(Z1, A1, Z2, A2, x, y)\n",
    "            self.W1 -= self.lr * dW1\n",
    "            self.b1 -= self.lr * db1\n",
    "            self.W2 -= self.lr * dW2\n",
    "            self.b2 -= self.lr * db2\n",
    "            if verbose and batchIdx % 1000 == 0:\n",
    "                verbose.set_description(f\"Loss: {loss.mean()}\")\n",
    "\n",
    "    def customActivation(self, x):\n",
    "        oldShape = x.shape\n",
    "        x = x.reshape(-1)\n",
    "        for i in range(x.size):\n",
    "            if x[i] <= 0:\n",
    "                x[i] = 1.359140915 * math.exp(x[i] - 1)\n",
    "            elif x[i] > 15:\n",
    "                x[i] = 1-1/((501379254*x[i])/4596191-280671887/200000) # 1 - 1/(109.0858178 * x[i] - 1403.359435)\n",
    "            else:\n",
    "                x[i] = 0.03 * math.log(1000000 * x[i] + 1) + 0.5\n",
    "        x = x.reshape(oldShape)\n",
    "        return x\n",
    "\n",
    "    def customActivationDeriv(self, x):\n",
    "        oldShape = x.shape\n",
    "        x = x.reshape(-1)\n",
    "        for i in range(x.size):\n",
    "            if x[i] <= 0:\n",
    "                x[i] = 1.359140915 * math.exp(x[i] - 1)\n",
    "            elif x[i] > 15:\n",
    "                x[i] = 92177392592860560000000000/(100275850800000*x[i]-1290021600982417)**2 # 0.00916709/(-12.8647 + x[i])**2\n",
    "            else:\n",
    "                x[i] = 30000/(1000000*x[i]+1) # 0.03/(10**-6 + x[i])\n",
    "        x = x.reshape(oldShape)\n",
    "        return x"
   ]
  },
  {
   "cell_type": "code",
   "execution_count": 11,
   "metadata": {},
   "outputs": [
    {
     "name": "stdout",
     "output_type": "stream",
     "text": [
      "[[ 0.29725187 -0.25043917]\n",
      " [ 0.31580106  0.17827682]] [[ 0.13443759]\n",
      " [-0.30983841]] [[0.33224926 0.27796753]] [[-0.2204177]]\n",
      "[88.06992785]\n"
     ]
    }
   ],
   "source": [
    "model = Model()\n",
    "\n",
    "test = np.array([[2], [1]])\n",
    "print(model.forward(test))\n",
    "print(model.W1, model.b1, model.W2, model.b2)"
   ]
  },
  {
   "cell_type": "code",
   "execution_count": 12,
   "metadata": {},
   "outputs": [
    {
     "data": {
      "application/vnd.jupyter.widget-view+json": {
       "model_id": "6584f2ee10b348ab8d8deedd972aecf1",
       "version_major": 2,
       "version_minor": 0
      },
      "text/plain": [
       "  0%|          | 0/120 [00:00<?, ?it/s]"
      ]
     },
     "metadata": {},
     "output_type": "display_data"
    },
    {
     "ename": "ValueError",
     "evalue": "shapes (2,16) and (2,16) not aligned: 16 (dim 1) != 2 (dim 0)",
     "output_type": "error",
     "traceback": [
      "\u001b[1;31m---------------------------------------------------------------------------\u001b[0m",
      "\u001b[1;31mValueError\u001b[0m                                Traceback (most recent call last)",
      "\u001b[1;32m~\\AppData\\Local\\Temp/ipykernel_23824/2070235685.py\u001b[0m in \u001b[0;36m<module>\u001b[1;34m\u001b[0m\n\u001b[0;32m      2\u001b[0m \u001b[0mt\u001b[0m \u001b[1;33m=\u001b[0m \u001b[0mtrange\u001b[0m\u001b[1;33m(\u001b[0m\u001b[0mEPOCHS\u001b[0m\u001b[1;33m)\u001b[0m\u001b[1;33m\u001b[0m\u001b[1;33m\u001b[0m\u001b[0m\n\u001b[0;32m      3\u001b[0m \u001b[1;32mfor\u001b[0m \u001b[0mepoch\u001b[0m \u001b[1;32min\u001b[0m \u001b[0mt\u001b[0m\u001b[1;33m:\u001b[0m\u001b[1;33m\u001b[0m\u001b[1;33m\u001b[0m\u001b[0m\n\u001b[1;32m----> 4\u001b[1;33m     \u001b[0mmodel\u001b[0m\u001b[1;33m.\u001b[0m\u001b[0mtrain\u001b[0m\u001b[1;33m(\u001b[0m\u001b[0mtrain_data\u001b[0m\u001b[1;33m,\u001b[0m \u001b[0mverbose\u001b[0m\u001b[1;33m=\u001b[0m\u001b[0mt\u001b[0m\u001b[1;33m)\u001b[0m\u001b[1;33m\u001b[0m\u001b[1;33m\u001b[0m\u001b[0m\n\u001b[0m",
      "\u001b[1;32m~\\AppData\\Local\\Temp/ipykernel_23824/112324293.py\u001b[0m in \u001b[0;36mtrain\u001b[1;34m(self, train_data, verbose)\u001b[0m\n\u001b[0;32m     33\u001b[0m         \u001b[1;32mfor\u001b[0m \u001b[0mbatchIdx\u001b[0m\u001b[1;33m,\u001b[0m \u001b[1;33m(\u001b[0m\u001b[0mx\u001b[0m\u001b[1;33m,\u001b[0m \u001b[0my\u001b[0m\u001b[1;33m)\u001b[0m \u001b[1;32min\u001b[0m \u001b[0menumerate\u001b[0m\u001b[1;33m(\u001b[0m\u001b[0mtrain_data\u001b[0m\u001b[1;33m)\u001b[0m\u001b[1;33m:\u001b[0m\u001b[1;33m\u001b[0m\u001b[1;33m\u001b[0m\u001b[0m\n\u001b[0;32m     34\u001b[0m             \u001b[0mZ1\u001b[0m\u001b[1;33m,\u001b[0m \u001b[0mA1\u001b[0m\u001b[1;33m,\u001b[0m \u001b[0mZ2\u001b[0m\u001b[1;33m,\u001b[0m \u001b[0mA2\u001b[0m \u001b[1;33m=\u001b[0m \u001b[0mself\u001b[0m\u001b[1;33m.\u001b[0m\u001b[0mforward\u001b[0m\u001b[1;33m(\u001b[0m\u001b[0mx\u001b[0m\u001b[1;33m.\u001b[0m\u001b[0mT\u001b[0m\u001b[1;33m,\u001b[0m \u001b[0mpredict\u001b[0m\u001b[1;33m=\u001b[0m\u001b[1;32mFalse\u001b[0m\u001b[1;33m)\u001b[0m\u001b[1;33m\u001b[0m\u001b[1;33m\u001b[0m\u001b[0m\n\u001b[1;32m---> 35\u001b[1;33m             \u001b[0mdW1\u001b[0m\u001b[1;33m,\u001b[0m \u001b[0mdb1\u001b[0m\u001b[1;33m,\u001b[0m \u001b[0mdW2\u001b[0m\u001b[1;33m,\u001b[0m \u001b[0mdb2\u001b[0m\u001b[1;33m,\u001b[0m \u001b[0mloss\u001b[0m \u001b[1;33m=\u001b[0m \u001b[0mself\u001b[0m\u001b[1;33m.\u001b[0m\u001b[0mbackward\u001b[0m\u001b[1;33m(\u001b[0m\u001b[0mZ1\u001b[0m\u001b[1;33m,\u001b[0m \u001b[0mA1\u001b[0m\u001b[1;33m,\u001b[0m \u001b[0mZ2\u001b[0m\u001b[1;33m,\u001b[0m \u001b[0mA2\u001b[0m\u001b[1;33m,\u001b[0m \u001b[0mx\u001b[0m\u001b[1;33m,\u001b[0m \u001b[0my\u001b[0m\u001b[1;33m.\u001b[0m\u001b[0mT\u001b[0m\u001b[1;33m)\u001b[0m\u001b[1;33m\u001b[0m\u001b[1;33m\u001b[0m\u001b[0m\n\u001b[0m\u001b[0;32m     36\u001b[0m             \u001b[0mself\u001b[0m\u001b[1;33m.\u001b[0m\u001b[0mW1\u001b[0m \u001b[1;33m-=\u001b[0m \u001b[0mself\u001b[0m\u001b[1;33m.\u001b[0m\u001b[0mlr\u001b[0m \u001b[1;33m*\u001b[0m \u001b[0mdW1\u001b[0m\u001b[1;33m\u001b[0m\u001b[1;33m\u001b[0m\u001b[0m\n\u001b[0;32m     37\u001b[0m             \u001b[0mself\u001b[0m\u001b[1;33m.\u001b[0m\u001b[0mb1\u001b[0m \u001b[1;33m-=\u001b[0m \u001b[0mself\u001b[0m\u001b[1;33m.\u001b[0m\u001b[0mlr\u001b[0m \u001b[1;33m*\u001b[0m \u001b[0mdb1\u001b[0m\u001b[1;33m\u001b[0m\u001b[1;33m\u001b[0m\u001b[0m\n",
      "\u001b[1;32m~\\AppData\\Local\\Temp/ipykernel_23824/112324293.py\u001b[0m in \u001b[0;36mbackward\u001b[1;34m(self, Z1, A1, Z2, A2, x, y)\u001b[0m\n\u001b[0;32m     26\u001b[0m         \u001b[0mdA1\u001b[0m \u001b[1;33m=\u001b[0m \u001b[0mself\u001b[0m\u001b[1;33m.\u001b[0m\u001b[0mW2\u001b[0m\u001b[1;33m.\u001b[0m\u001b[0mT\u001b[0m\u001b[1;33m.\u001b[0m\u001b[0mdot\u001b[0m\u001b[1;33m(\u001b[0m\u001b[0mdZ2\u001b[0m\u001b[1;33m)\u001b[0m\u001b[1;33m\u001b[0m\u001b[1;33m\u001b[0m\u001b[0m\n\u001b[0;32m     27\u001b[0m         \u001b[0mdZ1\u001b[0m \u001b[1;33m=\u001b[0m \u001b[0mdA1\u001b[0m \u001b[1;33m*\u001b[0m \u001b[0mself\u001b[0m\u001b[1;33m.\u001b[0m\u001b[0mcustomActivationDeriv\u001b[0m\u001b[1;33m(\u001b[0m\u001b[0mZ1\u001b[0m\u001b[1;33m)\u001b[0m\u001b[1;33m\u001b[0m\u001b[1;33m\u001b[0m\u001b[0m\n\u001b[1;32m---> 28\u001b[1;33m         \u001b[0mdW1\u001b[0m \u001b[1;33m=\u001b[0m \u001b[1;36m1\u001b[0m\u001b[1;33m/\u001b[0m\u001b[0mBATCH_SIZE\u001b[0m \u001b[1;33m*\u001b[0m \u001b[0mdZ1\u001b[0m\u001b[1;33m.\u001b[0m\u001b[0mdot\u001b[0m\u001b[1;33m(\u001b[0m\u001b[0mx\u001b[0m\u001b[1;33m.\u001b[0m\u001b[0mT\u001b[0m\u001b[1;33m)\u001b[0m\u001b[1;33m\u001b[0m\u001b[1;33m\u001b[0m\u001b[0m\n\u001b[0m\u001b[0;32m     29\u001b[0m         \u001b[0mdb1\u001b[0m \u001b[1;33m=\u001b[0m \u001b[1;36m1\u001b[0m\u001b[1;33m/\u001b[0m\u001b[0mBATCH_SIZE\u001b[0m \u001b[1;33m*\u001b[0m \u001b[0mnp\u001b[0m\u001b[1;33m.\u001b[0m\u001b[0msum\u001b[0m\u001b[1;33m(\u001b[0m\u001b[0mdZ1\u001b[0m\u001b[1;33m,\u001b[0m \u001b[0maxis\u001b[0m\u001b[1;33m=\u001b[0m\u001b[1;36m1\u001b[0m\u001b[1;33m,\u001b[0m \u001b[0mkeepdims\u001b[0m\u001b[1;33m=\u001b[0m\u001b[1;32mTrue\u001b[0m\u001b[1;33m)\u001b[0m\u001b[1;33m\u001b[0m\u001b[1;33m\u001b[0m\u001b[0m\n\u001b[0;32m     30\u001b[0m         \u001b[1;32mreturn\u001b[0m \u001b[0mdW1\u001b[0m\u001b[1;33m,\u001b[0m \u001b[0mdb1\u001b[0m\u001b[1;33m,\u001b[0m \u001b[0mdW2\u001b[0m\u001b[1;33m,\u001b[0m \u001b[0mdb2\u001b[0m\u001b[1;33m,\u001b[0m \u001b[0mdZ2\u001b[0m\u001b[1;33m\u001b[0m\u001b[1;33m\u001b[0m\u001b[0m\n",
      "\u001b[1;31mValueError\u001b[0m: shapes (2,16) and (2,16) not aligned: 16 (dim 1) != 2 (dim 0)"
     ]
    }
   ],
   "source": [
    "train_data = devisionData(128000)\n",
    "t = trange(EPOCHS)\n",
    "for epoch in t:\n",
    "    model.train(train_data, verbose=t)"
   ]
  },
  {
   "cell_type": "code",
   "execution_count": null,
   "metadata": {},
   "outputs": [
    {
     "name": "stdout",
     "output_type": "stream",
     "text": [
      "[4.51335228]\n",
      "[[-0.10355816  0.39695988]\n",
      " [-0.15737157  0.38222007]] [[0.2624378 ]\n",
      " [0.10719376]] [[-0.8346141  -0.77616112]] [[-0.99247994]]\n"
     ]
    }
   ],
   "source": [
    "print(model.forward(test))\n",
    "print(model.W1, model.b1, model.W2, model.b2)"
   ]
  }
 ],
 "metadata": {
  "interpreter": {
   "hash": "6b8149ac4395d9070500b42afe2f3634df0963551b295706ab1eed5a6da2e06c"
  },
  "kernelspec": {
   "display_name": "Python 3.7.10 64-bit ('capgemini': conda)",
   "language": "python",
   "name": "python3"
  },
  "language_info": {
   "codemirror_mode": {
    "name": "ipython",
    "version": 3
   },
   "file_extension": ".py",
   "mimetype": "text/x-python",
   "name": "python",
   "nbconvert_exporter": "python",
   "pygments_lexer": "ipython3",
   "version": "3.7.10"
  },
  "orig_nbformat": 4
 },
 "nbformat": 4,
 "nbformat_minor": 2
}
