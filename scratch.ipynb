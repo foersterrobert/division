{
 "cells": [
  {
   "cell_type": "code",
   "execution_count": 11,
   "metadata": {},
   "outputs": [],
   "source": [
    "import numpy as np\n",
    "import random\n",
    "import decimal\n",
    "import math"
   ]
  },
  {
   "cell_type": "code",
   "execution_count": 12,
   "metadata": {},
   "outputs": [],
   "source": [
    "BATCH_SIZE = 32"
   ]
  },
  {
   "cell_type": "code",
   "execution_count": null,
   "metadata": {},
   "outputs": [],
   "source": [
    "def devision_data(size):\n",
    "    xdata = []\n",
    "    ydata = []\n",
    "    for i in range(int(size/BATCH_SIZE)):\n",
    "        xbatch = []\n",
    "        ybatch = []\n",
    "        for j in range(BATCH_SIZE):\n",
    "            i1, i2 = float(decimal.Decimal(random.randrange(100, 2000))/100), float(decimal.Decimal(random.randrange(100, 2000))/100)\n",
    "            y = i1 / i2 / 100\n",
    "            xbatch.append([i1, i2])\n",
    "            ybatch.append([y])\n",
    "        xdata.append(xbatch)\n",
    "        ydata.append(ybatch)\n",
    "    return list(zip(xdata, ydata))"
   ]
  },
  {
   "cell_type": "code",
   "execution_count": 41,
   "metadata": {},
   "outputs": [],
   "source": [
    "class Model:\n",
    "    def __init__(self):\n",
    "        self.W1 = np.array([[0.000001, 0.0], [0.0, 0.000001]]) # np.random.randn(2, 2)\n",
    "        self.b1 = np.array([-0.000001, -0.000001]) # np.random.randn(2, 1)\n",
    "        self.W2 = np.array([[33.3333, -33.3333]]) # np.random.randn(2, 1)\n",
    "        self.b2 = np.array([-3.912023]) # np.random.randn(1, 1)\n",
    "\n",
    "    def forward(self, x, predict=True):\n",
    "        Z1 = self.W1.dot(x) + self.b1\n",
    "        A1 = self.customActivation(Z1)\n",
    "        Z2 = self.W2.dot(A1) + self.b2\n",
    "        A2 = self.customActivation(Z2)\n",
    "        if predict:\n",
    "            return A2[0] * 100\n",
    "        return Z1, A1, Z2, A2\n",
    "\n",
    "    def backward(self, Z1, A1, Z2, A2, x, y):\n",
    "        dZ2 = A2 - y\n",
    "        dW2 = 1/BATCH_SIZE * dZ2.dot(A1.T)\n",
    "        db2 = 1/BATCH_SIZE * np.sum(dZ2, axis=1, keepdims=True)\n",
    "        dA1 = self.W2.T.dot(dZ2)\n",
    "        dZ1 = dA1 * self.customActivationDeriv(Z1)\n",
    "        dW1 = 1/BATCH_SIZE * dZ1.dot(x.T)\n",
    "        db1 = 1/BATCH_SIZE * np.sum(dZ1, axis=1, keepdims=True)\n",
    "        return dW1, db1, dW2, db2\n",
    "\n",
    "    def train(self, train_data, epochs, lr, batch_size, test_data=None):\n",
    "        pass\n",
    "\n",
    "    def customActivation(self, x):\n",
    "        oldShape = x.shape\n",
    "        x = x.reshape(-1)\n",
    "        for i in range(x.size):\n",
    "            if x[i] <= 0:\n",
    "                x[i] = 1.359140915 * math.exp(x[i] - 1)\n",
    "            elif x[i] > 15:\n",
    "                x[i] = 1 - 1/(109.0858178 * x[i] - 1403.359435)\n",
    "            else:\n",
    "                x[i] = 0.03 * math.log(1000000 * x[i] + 1) + 0.5\n",
    "        x = x.reshape(oldShape)\n",
    "        return x\n",
    "\n",
    "    def customActivationDeriv(self, x):\n",
    "        oldShape = x.shape\n",
    "        x = x.reshape(-1)\n",
    "        for i in range(x.size):\n",
    "            if x[i] <= 0:\n",
    "                x[i] = 1.359140915 * math.exp(x[i] - 1)\n",
    "            elif x[i] > 15:\n",
    "                x[i] = 1 - 1/(109.0858178 * x[i] - 1403.359435)\n",
    "            else:\n",
    "                x[i] = 0.03 * math.log(1000000 * x[i] + 1) + 0.5\n",
    "        x = x.reshape(oldShape)\n",
    "        return x"
   ]
  },
  {
   "cell_type": "code",
   "execution_count": 44,
   "metadata": {},
   "outputs": [
    {
     "name": "stdout",
     "output_type": "stream",
     "text": [
      "3.4999956363149334\n"
     ]
    }
   ],
   "source": [
    "model = Model()\n",
    "test = model.forward(np.array([7, 2]))\n",
    "print(test)"
   ]
  }
 ],
 "metadata": {
  "interpreter": {
   "hash": "6b8149ac4395d9070500b42afe2f3634df0963551b295706ab1eed5a6da2e06c"
  },
  "kernelspec": {
   "display_name": "Python 3.7.10 64-bit ('capgemini': conda)",
   "language": "python",
   "name": "python3"
  },
  "language_info": {
   "codemirror_mode": {
    "name": "ipython",
    "version": 3
   },
   "file_extension": ".py",
   "mimetype": "text/x-python",
   "name": "python",
   "nbconvert_exporter": "python",
   "pygments_lexer": "ipython3",
   "version": "3.7.10"
  },
  "orig_nbformat": 4
 },
 "nbformat": 4,
 "nbformat_minor": 2
}
