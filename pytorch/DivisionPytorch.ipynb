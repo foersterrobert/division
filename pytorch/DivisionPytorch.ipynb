{
 "cells": [
  {
   "cell_type": "code",
   "execution_count": null,
   "metadata": {},
   "outputs": [],
   "source": [
    "# imports\n",
    "import torch\n",
    "import torch.nn as nn\n",
    "import torch.nn.functional as F\n",
    "import torch.optim as optim\n",
    "from torch.nn.modules import Module\n",
    "import random\n",
    "from torch.autograd import Variable\n",
    "import decimal\n",
    "import os"
   ]
  },
  {
   "cell_type": "code",
   "execution_count": null,
   "metadata": {},
   "outputs": [],
   "source": [
    "# hyperparameters\n",
    "BATCH_SIZE = 128\n",
    "LEARNING_RATE = 0.001\n",
    "EPOCHS = 90"
   ]
  },
  {
   "cell_type": "code",
   "execution_count": null,
   "metadata": {},
   "outputs": [],
   "source": [
    "# datafn\n",
    "def devision_data(size):\n",
    "    xdata = []\n",
    "    ydata = []\n",
    "    for i in range(int(size/BATCH_SIZE)):\n",
    "        xbatch = []\n",
    "        ybatch = []\n",
    "        for j in range(BATCH_SIZE):\n",
    "            i1, i2 = float(decimal.Decimal(random.randrange(100, 2000))/100), float(decimal.Decimal(random.randrange(100, 2000))/100)\n",
    "            y = i1 / i2 / 100\n",
    "            xbatch.append([i1, i2])\n",
    "            ybatch.append([y])\n",
    "        xbatch = torch.tensor(xbatch, dtype=torch.float)\n",
    "        ybatch = torch.tensor(ybatch)\n",
    "        xdata.append(xbatch)\n",
    "        ydata.append(ybatch)\n",
    "    return list(zip(xdata, ydata))\n",
    "\n",
    "train_data = devision_data(64000)\n",
    "test_data = devision_data(12800)"
   ]
  },
  {
   "cell_type": "code",
   "execution_count": null,
   "metadata": {},
   "outputs": [],
   "source": [
    "# custom activation function\n",
    "class CustomActivation(Module):\n",
    "    def forward(self, x):\n",
    "        x = torch.where(\n",
    "            x <= 0, 1.359140915 * (x-1).exp(), \n",
    "            torch.where(\n",
    "                x > 15, 1 - 1/(109.0858178 * x - 1403.359435), \n",
    "                0.03 * (1000000 * x + 1).log() + 0.5\n",
    "            )\n",
    "        )\n",
    "        return x"
   ]
  },
  {
   "cell_type": "code",
   "execution_count": null,
   "metadata": {},
   "outputs": [],
   "source": [
    "# model\n",
    "act_fn = CustomActivation()\n",
    "class Model(nn.Module):\n",
    "    def __init__(self):\n",
    "        super(Model, self).__init__()\n",
    "        self.l1 = nn.Linear(2, 2)\n",
    "        self.l2 = nn.Linear(2, 1)\n",
    "\n",
    "    def forward(self, x):\n",
    "        x = self.l1(x)\n",
    "        x = act_fn(x)\n",
    "        x = self.l2(x)\n",
    "        x = act_fn(x)\n",
    "        return x"
   ]
  },
  {
   "cell_type": "code",
   "execution_count": null,
   "metadata": {},
   "outputs": [],
   "source": [
    "# laod\n",
    "load = input('load? y/n ')\n",
    "if load == 'y':\n",
    "    model = torch.load('./model/Torch.pth')\n",
    "    while True:\n",
    "        inputs = input('\\ninputs: ')\n",
    "        try:\n",
    "            print(model(torch.tensor([int(inputs.split(',')[0].strip()), int(inputs.split(',')[1].strip())], dtype=torch.float)).item() * 20)\n",
    "        except:\n",
    "            exit()\n",
    "else:\n",
    "    model = Model()"
   ]
  },
  {
   "cell_type": "code",
   "execution_count": null,
   "metadata": {},
   "outputs": [],
   "source": [
    "optimizer = optim.Adam(model.parameters(), lr=LEARNING_RATE)\n",
    "criterion = nn.MSELoss()\n",
    "\n",
    "def train(epoch):\n",
    "    model.train()\n",
    "    for batch_id, (data, target) in enumerate(train_data):\n",
    "        data = Variable(data)\n",
    "        target = Variable(target)\n",
    "        Y_pred = model(data)\n",
    "        loss = criterion(Y_pred, target)\n",
    "        optimizer.zero_grad()\n",
    "        loss.backward()\n",
    "        optimizer.step()\n",
    "        print('Train Epoch: {} [{}/{} ({:.0f}%)]\\tLoss: {:.6f}'.format(\n",
    "            epoch + 1, batch_id * len(data), BATCH_SIZE * len(train_data),\n",
    "                    100. * batch_id / len(train_data), loss.item()))\n",
    "\n",
    "def test():\n",
    "    model.eval()\n",
    "    totalLoss = 0\n",
    "    for data, target in test_data:\n",
    "        data = Variable(data)\n",
    "        target = Variable(target)\n",
    "        Y_pred = model(data)\n",
    "        loss = criterion(Y_pred, target)\n",
    "        totalLoss += loss\n",
    "    print('Custom Durchschnittsloss: ', totalLoss / len(test_data))\n",
    "\n",
    "# for epoch in range(EPOCHS):\n",
    "#     train(epoch)\n",
    "#     test()\n",
    "\n",
    "# 3.8294e-15\n",
    "print(model.l1.weight, model.l1.bias, model.l1.weight.shape, model.l1.bias.shape)\n",
    "print(model.l2.weight, model.l2.bias, model.l2.weight.shape, model.l2.bias.shape)"
   ]
  },
  {
   "cell_type": "code",
   "execution_count": null,
   "metadata": {},
   "outputs": [],
   "source": [
    "l1HardWeights = torch.tensor([[0.000001, 0.0], [0.0, 0.000001]])\n",
    "l2HardWeights = torch.tensor([[33.3333, -33.3333]])\n",
    "l1HardBias = torch.tensor([-0.000001, -0.000001])\n",
    "l2HardBias = torch.tensor([-3.912023])\n",
    "model.l1.weight = torch.nn.Parameter(l1HardWeights)\n",
    "model.l2.weight = torch.nn.Parameter(l2HardWeights)\n",
    "model.l1.bias = torch.nn.Parameter(l1HardBias)\n",
    "model.l2.bias = torch.nn.Parameter(l2HardBias)\n",
    "# print(model.l1.weight, model.l1.bias, model.l1.weight.shape, model.l1.bias.shape)\n",
    "# print(model.l2.weight, model.l2.bias, model.l2.weight.shape, model.l2.bias.shape)\n",
    "\n",
    "test()"
   ]
  },
  {
   "cell_type": "code",
   "execution_count": null,
   "metadata": {},
   "outputs": [],
   "source": [
    "# save\n",
    "save = input('save? y/n ')\n",
    "if save == 'y':\n",
    "    model_folder_path = './model'\n",
    "    file_name='Torch.pth'\n",
    "    if not os.path.exists(model_folder_path):\n",
    "        os.makedirs(model_folder_path)\n",
    "\n",
    "    file_name = os.path.join(model_folder_path, file_name)\n",
    "    torch.save(model, file_name)"
   ]
  }
 ],
 "metadata": {
  "interpreter": {
   "hash": "6b8149ac4395d9070500b42afe2f3634df0963551b295706ab1eed5a6da2e06c"
  },
  "kernelspec": {
   "display_name": "Python 3.7.10 64-bit ('capgemini': conda)",
   "language": "python",
   "name": "python3"
  },
  "language_info": {
   "codemirror_mode": {
    "name": "ipython",
    "version": 3
   },
   "file_extension": ".py",
   "mimetype": "text/x-python",
   "name": "python",
   "nbconvert_exporter": "python",
   "pygments_lexer": "ipython3",
   "version": "3.7.10"
  },
  "orig_nbformat": 4
 },
 "nbformat": 4,
 "nbformat_minor": 2
}
